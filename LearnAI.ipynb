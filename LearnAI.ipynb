{
  "nbformat": 4,
  "nbformat_minor": 0,
  "metadata": {
    "colab": {
      "provenance": [],
      "authorship_tag": "ABX9TyMCSZkQuSZd15SFK8+UMA0r",
      "include_colab_link": true
    },
    "kernelspec": {
      "name": "python3",
      "display_name": "Python 3"
    },
    "language_info": {
      "name": "python"
    }
  },
  "cells": [
    {
      "cell_type": "markdown",
      "metadata": {
        "id": "view-in-github",
        "colab_type": "text"
      },
      "source": [
        "<a href=\"https://colab.research.google.com/github/mashrabburanov/Learning-AI/blob/main/LearnAI.ipynb\" target=\"_parent\"><img src=\"https://colab.research.google.com/assets/colab-badge.svg\" alt=\"Open In Colab\"/></a>"
      ]
    },
    {
      "cell_type": "markdown",
      "source": [
        "# Изучаем ИИ\n",
        "## Введение\n",
        "Этот файл содержит информацию которую я, Буранов Машраб, буду изучать по теме искуссвенного интелекта."
      ],
      "metadata": {
        "id": "nrdhbDJqrQv4"
      }
    },
    {
      "cell_type": "markdown",
      "source": [
        "## Списоки сайтов сообществ и сайтов с обучающим материалами по теме ИИ\n",
        "\n",
        "Сайты сообществ:\n",
        "- https://huggingface.co/\n",
        "\n",
        "Сайты с обучающими материалами:\n",
        "- https://www.w3schools.com/ai/  "
      ],
      "metadata": {
        "id": "y2Ic0yYOt7Mx"
      }
    },
    {
      "cell_type": "markdown",
      "source": [
        "##**Artificial Intelligence** (AI) and **Machine Learning** (ML)\n",
        "\n",
        "###**Artificial Intelligence** (AI)\n",
        "\n",
        "> **Artificial Intelligence** (Исскуственный Интелект) - наука изучающая, разрабатывающая и применяющая практики, алгоритмы для наделения машины (вычислительной) интелектуальными способностями (напрмер: генерация изображений, составление/обработка текстов и т.д.).\n",
        "\n",
        "> ИИ делится на narrow (слабый) и strong (сильный).\n",
        "- narrow - слабый ИИ ограничивается решеением какой-либо специфической задачи. Применяется: search engine, text to speech ect;\n",
        "- strong - сильный ИИ создается чтобы копировать человеческое сознание.\n",
        "\n",
        "> ИИ использует некторорые поля Data Science такие как: Machine Learning, Deep \n",
        "Learning, Big Data и Data Mining.\n",
        "\n",
        "### **Machine Learning**\n",
        "\n",
        "> **Machine Learning** (Машинное Обучение) - ИИ обычно отсылает нас к Машинному Обучению. В отличии от традиционного программирования опирающегося на использовние алгоритмов над данными для получения результата\n",
        "\n",
        "### **Deep Learning**\n",
        "\n",
        "### **Big Data**\n",
        "\n",
        "### **Data Mining**\n",
        "\n"
      ],
      "metadata": {
        "id": "LrDLb-7vvfVh"
      }
    },
    {
      "cell_type": "markdown",
      "source": [
        "# Примеры\n"
      ],
      "metadata": {
        "id": "j2HznuQRuZvj"
      }
    }
  ]
}