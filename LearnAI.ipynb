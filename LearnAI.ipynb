{
  "nbformat": 4,
  "nbformat_minor": 0,
  "metadata": {
    "colab": {
      "provenance": [],
      "authorship_tag": "ABX9TyMXg1Uij0t2R0oKnVyJGajg",
      "include_colab_link": true
    },
    "kernelspec": {
      "name": "python3",
      "display_name": "Python 3"
    },
    "language_info": {
      "name": "python"
    },
    "widgets": {
      "application/vnd.jupyter.widget-state+json": {
        "4a79447d2df548e19ae4397df48327d4": {
          "model_module": "@jupyter-widgets/controls",
          "model_name": "HBoxModel",
          "model_module_version": "1.5.0",
          "state": {
            "_dom_classes": [],
            "_model_module": "@jupyter-widgets/controls",
            "_model_module_version": "1.5.0",
            "_model_name": "HBoxModel",
            "_view_count": null,
            "_view_module": "@jupyter-widgets/controls",
            "_view_module_version": "1.5.0",
            "_view_name": "HBoxView",
            "box_style": "",
            "children": [
              "IPY_MODEL_4b7b2aac66eb4a1b8872ccdcb49413c0",
              "IPY_MODEL_e18f5504c11d4624870abc69fd53cde4",
              "IPY_MODEL_128e3304f7bc4c409b967c8d8ac97a52"
            ],
            "layout": "IPY_MODEL_bed60994510347638cd89e2ccc57f620"
          }
        },
        "4b7b2aac66eb4a1b8872ccdcb49413c0": {
          "model_module": "@jupyter-widgets/controls",
          "model_name": "HTMLModel",
          "model_module_version": "1.5.0",
          "state": {
            "_dom_classes": [],
            "_model_module": "@jupyter-widgets/controls",
            "_model_module_version": "1.5.0",
            "_model_name": "HTMLModel",
            "_view_count": null,
            "_view_module": "@jupyter-widgets/controls",
            "_view_module_version": "1.5.0",
            "_view_name": "HTMLView",
            "description": "",
            "description_tooltip": null,
            "layout": "IPY_MODEL_d03635ee005944c58b85794f4e018f29",
            "placeholder": "​",
            "style": "IPY_MODEL_084dc1bd8214455bbb88a33d4edec02f",
            "value": "Downloading (…)ve/main/spiece.model: 100%"
          }
        },
        "e18f5504c11d4624870abc69fd53cde4": {
          "model_module": "@jupyter-widgets/controls",
          "model_name": "FloatProgressModel",
          "model_module_version": "1.5.0",
          "state": {
            "_dom_classes": [],
            "_model_module": "@jupyter-widgets/controls",
            "_model_module_version": "1.5.0",
            "_model_name": "FloatProgressModel",
            "_view_count": null,
            "_view_module": "@jupyter-widgets/controls",
            "_view_module_version": "1.5.0",
            "_view_name": "ProgressView",
            "bar_style": "success",
            "description": "",
            "description_tooltip": null,
            "layout": "IPY_MODEL_a8d03cc3340a47588b7e48629e415687",
            "max": 1912529,
            "min": 0,
            "orientation": "horizontal",
            "style": "IPY_MODEL_ccc0b6a335e34948b7c314dc337e8ace",
            "value": 1912529
          }
        },
        "128e3304f7bc4c409b967c8d8ac97a52": {
          "model_module": "@jupyter-widgets/controls",
          "model_name": "HTMLModel",
          "model_module_version": "1.5.0",
          "state": {
            "_dom_classes": [],
            "_model_module": "@jupyter-widgets/controls",
            "_model_module_version": "1.5.0",
            "_model_name": "HTMLModel",
            "_view_count": null,
            "_view_module": "@jupyter-widgets/controls",
            "_view_module_version": "1.5.0",
            "_view_name": "HTMLView",
            "description": "",
            "description_tooltip": null,
            "layout": "IPY_MODEL_e51d1788e1294268ab66cfdfba44bf85",
            "placeholder": "​",
            "style": "IPY_MODEL_601e8c14f92649a2b305080fcaa0eeda",
            "value": " 1.91M/1.91M [00:00&lt;00:00, 7.68MB/s]"
          }
        },
        "bed60994510347638cd89e2ccc57f620": {
          "model_module": "@jupyter-widgets/base",
          "model_name": "LayoutModel",
          "model_module_version": "1.2.0",
          "state": {
            "_model_module": "@jupyter-widgets/base",
            "_model_module_version": "1.2.0",
            "_model_name": "LayoutModel",
            "_view_count": null,
            "_view_module": "@jupyter-widgets/base",
            "_view_module_version": "1.2.0",
            "_view_name": "LayoutView",
            "align_content": null,
            "align_items": null,
            "align_self": null,
            "border": null,
            "bottom": null,
            "display": null,
            "flex": null,
            "flex_flow": null,
            "grid_area": null,
            "grid_auto_columns": null,
            "grid_auto_flow": null,
            "grid_auto_rows": null,
            "grid_column": null,
            "grid_gap": null,
            "grid_row": null,
            "grid_template_areas": null,
            "grid_template_columns": null,
            "grid_template_rows": null,
            "height": null,
            "justify_content": null,
            "justify_items": null,
            "left": null,
            "margin": null,
            "max_height": null,
            "max_width": null,
            "min_height": null,
            "min_width": null,
            "object_fit": null,
            "object_position": null,
            "order": null,
            "overflow": null,
            "overflow_x": null,
            "overflow_y": null,
            "padding": null,
            "right": null,
            "top": null,
            "visibility": null,
            "width": null
          }
        },
        "d03635ee005944c58b85794f4e018f29": {
          "model_module": "@jupyter-widgets/base",
          "model_name": "LayoutModel",
          "model_module_version": "1.2.0",
          "state": {
            "_model_module": "@jupyter-widgets/base",
            "_model_module_version": "1.2.0",
            "_model_name": "LayoutModel",
            "_view_count": null,
            "_view_module": "@jupyter-widgets/base",
            "_view_module_version": "1.2.0",
            "_view_name": "LayoutView",
            "align_content": null,
            "align_items": null,
            "align_self": null,
            "border": null,
            "bottom": null,
            "display": null,
            "flex": null,
            "flex_flow": null,
            "grid_area": null,
            "grid_auto_columns": null,
            "grid_auto_flow": null,
            "grid_auto_rows": null,
            "grid_column": null,
            "grid_gap": null,
            "grid_row": null,
            "grid_template_areas": null,
            "grid_template_columns": null,
            "grid_template_rows": null,
            "height": null,
            "justify_content": null,
            "justify_items": null,
            "left": null,
            "margin": null,
            "max_height": null,
            "max_width": null,
            "min_height": null,
            "min_width": null,
            "object_fit": null,
            "object_position": null,
            "order": null,
            "overflow": null,
            "overflow_x": null,
            "overflow_y": null,
            "padding": null,
            "right": null,
            "top": null,
            "visibility": null,
            "width": null
          }
        },
        "084dc1bd8214455bbb88a33d4edec02f": {
          "model_module": "@jupyter-widgets/controls",
          "model_name": "DescriptionStyleModel",
          "model_module_version": "1.5.0",
          "state": {
            "_model_module": "@jupyter-widgets/controls",
            "_model_module_version": "1.5.0",
            "_model_name": "DescriptionStyleModel",
            "_view_count": null,
            "_view_module": "@jupyter-widgets/base",
            "_view_module_version": "1.2.0",
            "_view_name": "StyleView",
            "description_width": ""
          }
        },
        "a8d03cc3340a47588b7e48629e415687": {
          "model_module": "@jupyter-widgets/base",
          "model_name": "LayoutModel",
          "model_module_version": "1.2.0",
          "state": {
            "_model_module": "@jupyter-widgets/base",
            "_model_module_version": "1.2.0",
            "_model_name": "LayoutModel",
            "_view_count": null,
            "_view_module": "@jupyter-widgets/base",
            "_view_module_version": "1.2.0",
            "_view_name": "LayoutView",
            "align_content": null,
            "align_items": null,
            "align_self": null,
            "border": null,
            "bottom": null,
            "display": null,
            "flex": null,
            "flex_flow": null,
            "grid_area": null,
            "grid_auto_columns": null,
            "grid_auto_flow": null,
            "grid_auto_rows": null,
            "grid_column": null,
            "grid_gap": null,
            "grid_row": null,
            "grid_template_areas": null,
            "grid_template_columns": null,
            "grid_template_rows": null,
            "height": null,
            "justify_content": null,
            "justify_items": null,
            "left": null,
            "margin": null,
            "max_height": null,
            "max_width": null,
            "min_height": null,
            "min_width": null,
            "object_fit": null,
            "object_position": null,
            "order": null,
            "overflow": null,
            "overflow_x": null,
            "overflow_y": null,
            "padding": null,
            "right": null,
            "top": null,
            "visibility": null,
            "width": null
          }
        },
        "ccc0b6a335e34948b7c314dc337e8ace": {
          "model_module": "@jupyter-widgets/controls",
          "model_name": "ProgressStyleModel",
          "model_module_version": "1.5.0",
          "state": {
            "_model_module": "@jupyter-widgets/controls",
            "_model_module_version": "1.5.0",
            "_model_name": "ProgressStyleModel",
            "_view_count": null,
            "_view_module": "@jupyter-widgets/base",
            "_view_module_version": "1.2.0",
            "_view_name": "StyleView",
            "bar_color": null,
            "description_width": ""
          }
        },
        "e51d1788e1294268ab66cfdfba44bf85": {
          "model_module": "@jupyter-widgets/base",
          "model_name": "LayoutModel",
          "model_module_version": "1.2.0",
          "state": {
            "_model_module": "@jupyter-widgets/base",
            "_model_module_version": "1.2.0",
            "_model_name": "LayoutModel",
            "_view_count": null,
            "_view_module": "@jupyter-widgets/base",
            "_view_module_version": "1.2.0",
            "_view_name": "LayoutView",
            "align_content": null,
            "align_items": null,
            "align_self": null,
            "border": null,
            "bottom": null,
            "display": null,
            "flex": null,
            "flex_flow": null,
            "grid_area": null,
            "grid_auto_columns": null,
            "grid_auto_flow": null,
            "grid_auto_rows": null,
            "grid_column": null,
            "grid_gap": null,
            "grid_row": null,
            "grid_template_areas": null,
            "grid_template_columns": null,
            "grid_template_rows": null,
            "height": null,
            "justify_content": null,
            "justify_items": null,
            "left": null,
            "margin": null,
            "max_height": null,
            "max_width": null,
            "min_height": null,
            "min_width": null,
            "object_fit": null,
            "object_position": null,
            "order": null,
            "overflow": null,
            "overflow_x": null,
            "overflow_y": null,
            "padding": null,
            "right": null,
            "top": null,
            "visibility": null,
            "width": null
          }
        },
        "601e8c14f92649a2b305080fcaa0eeda": {
          "model_module": "@jupyter-widgets/controls",
          "model_name": "DescriptionStyleModel",
          "model_module_version": "1.5.0",
          "state": {
            "_model_module": "@jupyter-widgets/controls",
            "_model_module_version": "1.5.0",
            "_model_name": "DescriptionStyleModel",
            "_view_count": null,
            "_view_module": "@jupyter-widgets/base",
            "_view_module_version": "1.2.0",
            "_view_name": "StyleView",
            "description_width": ""
          }
        },
        "e267176137964499a23c0f756806d761": {
          "model_module": "@jupyter-widgets/controls",
          "model_name": "HBoxModel",
          "model_module_version": "1.5.0",
          "state": {
            "_dom_classes": [],
            "_model_module": "@jupyter-widgets/controls",
            "_model_module_version": "1.5.0",
            "_model_name": "HBoxModel",
            "_view_count": null,
            "_view_module": "@jupyter-widgets/controls",
            "_view_module_version": "1.5.0",
            "_view_name": "HBoxView",
            "box_style": "",
            "children": [
              "IPY_MODEL_3aedc1a223e74c0ea7e728b2457a17df",
              "IPY_MODEL_ce3cd164cc9946378a2696ce3150816f",
              "IPY_MODEL_fe52dbcfdf3041d6aa1350e84ff14cef"
            ],
            "layout": "IPY_MODEL_4ae4ed42653442fa8675e6bfe9497ff7"
          }
        },
        "3aedc1a223e74c0ea7e728b2457a17df": {
          "model_module": "@jupyter-widgets/controls",
          "model_name": "HTMLModel",
          "model_module_version": "1.5.0",
          "state": {
            "_dom_classes": [],
            "_model_module": "@jupyter-widgets/controls",
            "_model_module_version": "1.5.0",
            "_model_name": "HTMLModel",
            "_view_count": null,
            "_view_module": "@jupyter-widgets/controls",
            "_view_module_version": "1.5.0",
            "_view_name": "HTMLView",
            "description": "",
            "description_tooltip": null,
            "layout": "IPY_MODEL_c11a2a00e876446ea180f18a9a0607fd",
            "placeholder": "​",
            "style": "IPY_MODEL_10cf3a22090b43d9b9d619928f8646ab",
            "value": "Downloading (…)cial_tokens_map.json: 100%"
          }
        },
        "ce3cd164cc9946378a2696ce3150816f": {
          "model_module": "@jupyter-widgets/controls",
          "model_name": "FloatProgressModel",
          "model_module_version": "1.5.0",
          "state": {
            "_dom_classes": [],
            "_model_module": "@jupyter-widgets/controls",
            "_model_module_version": "1.5.0",
            "_model_name": "FloatProgressModel",
            "_view_count": null,
            "_view_module": "@jupyter-widgets/controls",
            "_view_module_version": "1.5.0",
            "_view_name": "ProgressView",
            "bar_style": "success",
            "description": "",
            "description_tooltip": null,
            "layout": "IPY_MODEL_8c628c898da44a7d91ff3ce8a807583a",
            "max": 65,
            "min": 0,
            "orientation": "horizontal",
            "style": "IPY_MODEL_48a0c705f4e14d1c88332d84a9ab65a4",
            "value": 65
          }
        },
        "fe52dbcfdf3041d6aa1350e84ff14cef": {
          "model_module": "@jupyter-widgets/controls",
          "model_name": "HTMLModel",
          "model_module_version": "1.5.0",
          "state": {
            "_dom_classes": [],
            "_model_module": "@jupyter-widgets/controls",
            "_model_module_version": "1.5.0",
            "_model_name": "HTMLModel",
            "_view_count": null,
            "_view_module": "@jupyter-widgets/controls",
            "_view_module_version": "1.5.0",
            "_view_name": "HTMLView",
            "description": "",
            "description_tooltip": null,
            "layout": "IPY_MODEL_c77dd9d804104a90bf8bce18f6501427",
            "placeholder": "​",
            "style": "IPY_MODEL_74e8cd55ba77487d873e1921f4d334ae",
            "value": " 65.0/65.0 [00:00&lt;00:00, 1.63kB/s]"
          }
        },
        "4ae4ed42653442fa8675e6bfe9497ff7": {
          "model_module": "@jupyter-widgets/base",
          "model_name": "LayoutModel",
          "model_module_version": "1.2.0",
          "state": {
            "_model_module": "@jupyter-widgets/base",
            "_model_module_version": "1.2.0",
            "_model_name": "LayoutModel",
            "_view_count": null,
            "_view_module": "@jupyter-widgets/base",
            "_view_module_version": "1.2.0",
            "_view_name": "LayoutView",
            "align_content": null,
            "align_items": null,
            "align_self": null,
            "border": null,
            "bottom": null,
            "display": null,
            "flex": null,
            "flex_flow": null,
            "grid_area": null,
            "grid_auto_columns": null,
            "grid_auto_flow": null,
            "grid_auto_rows": null,
            "grid_column": null,
            "grid_gap": null,
            "grid_row": null,
            "grid_template_areas": null,
            "grid_template_columns": null,
            "grid_template_rows": null,
            "height": null,
            "justify_content": null,
            "justify_items": null,
            "left": null,
            "margin": null,
            "max_height": null,
            "max_width": null,
            "min_height": null,
            "min_width": null,
            "object_fit": null,
            "object_position": null,
            "order": null,
            "overflow": null,
            "overflow_x": null,
            "overflow_y": null,
            "padding": null,
            "right": null,
            "top": null,
            "visibility": null,
            "width": null
          }
        },
        "c11a2a00e876446ea180f18a9a0607fd": {
          "model_module": "@jupyter-widgets/base",
          "model_name": "LayoutModel",
          "model_module_version": "1.2.0",
          "state": {
            "_model_module": "@jupyter-widgets/base",
            "_model_module_version": "1.2.0",
            "_model_name": "LayoutModel",
            "_view_count": null,
            "_view_module": "@jupyter-widgets/base",
            "_view_module_version": "1.2.0",
            "_view_name": "LayoutView",
            "align_content": null,
            "align_items": null,
            "align_self": null,
            "border": null,
            "bottom": null,
            "display": null,
            "flex": null,
            "flex_flow": null,
            "grid_area": null,
            "grid_auto_columns": null,
            "grid_auto_flow": null,
            "grid_auto_rows": null,
            "grid_column": null,
            "grid_gap": null,
            "grid_row": null,
            "grid_template_areas": null,
            "grid_template_columns": null,
            "grid_template_rows": null,
            "height": null,
            "justify_content": null,
            "justify_items": null,
            "left": null,
            "margin": null,
            "max_height": null,
            "max_width": null,
            "min_height": null,
            "min_width": null,
            "object_fit": null,
            "object_position": null,
            "order": null,
            "overflow": null,
            "overflow_x": null,
            "overflow_y": null,
            "padding": null,
            "right": null,
            "top": null,
            "visibility": null,
            "width": null
          }
        },
        "10cf3a22090b43d9b9d619928f8646ab": {
          "model_module": "@jupyter-widgets/controls",
          "model_name": "DescriptionStyleModel",
          "model_module_version": "1.5.0",
          "state": {
            "_model_module": "@jupyter-widgets/controls",
            "_model_module_version": "1.5.0",
            "_model_name": "DescriptionStyleModel",
            "_view_count": null,
            "_view_module": "@jupyter-widgets/base",
            "_view_module_version": "1.2.0",
            "_view_name": "StyleView",
            "description_width": ""
          }
        },
        "8c628c898da44a7d91ff3ce8a807583a": {
          "model_module": "@jupyter-widgets/base",
          "model_name": "LayoutModel",
          "model_module_version": "1.2.0",
          "state": {
            "_model_module": "@jupyter-widgets/base",
            "_model_module_version": "1.2.0",
            "_model_name": "LayoutModel",
            "_view_count": null,
            "_view_module": "@jupyter-widgets/base",
            "_view_module_version": "1.2.0",
            "_view_name": "LayoutView",
            "align_content": null,
            "align_items": null,
            "align_self": null,
            "border": null,
            "bottom": null,
            "display": null,
            "flex": null,
            "flex_flow": null,
            "grid_area": null,
            "grid_auto_columns": null,
            "grid_auto_flow": null,
            "grid_auto_rows": null,
            "grid_column": null,
            "grid_gap": null,
            "grid_row": null,
            "grid_template_areas": null,
            "grid_template_columns": null,
            "grid_template_rows": null,
            "height": null,
            "justify_content": null,
            "justify_items": null,
            "left": null,
            "margin": null,
            "max_height": null,
            "max_width": null,
            "min_height": null,
            "min_width": null,
            "object_fit": null,
            "object_position": null,
            "order": null,
            "overflow": null,
            "overflow_x": null,
            "overflow_y": null,
            "padding": null,
            "right": null,
            "top": null,
            "visibility": null,
            "width": null
          }
        },
        "48a0c705f4e14d1c88332d84a9ab65a4": {
          "model_module": "@jupyter-widgets/controls",
          "model_name": "ProgressStyleModel",
          "model_module_version": "1.5.0",
          "state": {
            "_model_module": "@jupyter-widgets/controls",
            "_model_module_version": "1.5.0",
            "_model_name": "ProgressStyleModel",
            "_view_count": null,
            "_view_module": "@jupyter-widgets/base",
            "_view_module_version": "1.2.0",
            "_view_name": "StyleView",
            "bar_color": null,
            "description_width": ""
          }
        },
        "c77dd9d804104a90bf8bce18f6501427": {
          "model_module": "@jupyter-widgets/base",
          "model_name": "LayoutModel",
          "model_module_version": "1.2.0",
          "state": {
            "_model_module": "@jupyter-widgets/base",
            "_model_module_version": "1.2.0",
            "_model_name": "LayoutModel",
            "_view_count": null,
            "_view_module": "@jupyter-widgets/base",
            "_view_module_version": "1.2.0",
            "_view_name": "LayoutView",
            "align_content": null,
            "align_items": null,
            "align_self": null,
            "border": null,
            "bottom": null,
            "display": null,
            "flex": null,
            "flex_flow": null,
            "grid_area": null,
            "grid_auto_columns": null,
            "grid_auto_flow": null,
            "grid_auto_rows": null,
            "grid_column": null,
            "grid_gap": null,
            "grid_row": null,
            "grid_template_areas": null,
            "grid_template_columns": null,
            "grid_template_rows": null,
            "height": null,
            "justify_content": null,
            "justify_items": null,
            "left": null,
            "margin": null,
            "max_height": null,
            "max_width": null,
            "min_height": null,
            "min_width": null,
            "object_fit": null,
            "object_position": null,
            "order": null,
            "overflow": null,
            "overflow_x": null,
            "overflow_y": null,
            "padding": null,
            "right": null,
            "top": null,
            "visibility": null,
            "width": null
          }
        },
        "74e8cd55ba77487d873e1921f4d334ae": {
          "model_module": "@jupyter-widgets/controls",
          "model_name": "DescriptionStyleModel",
          "model_module_version": "1.5.0",
          "state": {
            "_model_module": "@jupyter-widgets/controls",
            "_model_module_version": "1.5.0",
            "_model_name": "DescriptionStyleModel",
            "_view_count": null,
            "_view_module": "@jupyter-widgets/base",
            "_view_module_version": "1.2.0",
            "_view_name": "StyleView",
            "description_width": ""
          }
        },
        "36d68f5e07e74cc5963fc3152e681303": {
          "model_module": "@jupyter-widgets/controls",
          "model_name": "HBoxModel",
          "model_module_version": "1.5.0",
          "state": {
            "_dom_classes": [],
            "_model_module": "@jupyter-widgets/controls",
            "_model_module_version": "1.5.0",
            "_model_name": "HBoxModel",
            "_view_count": null,
            "_view_module": "@jupyter-widgets/controls",
            "_view_module_version": "1.5.0",
            "_view_name": "HBoxView",
            "box_style": "",
            "children": [
              "IPY_MODEL_940aff702f784507b67100bc87a3a158",
              "IPY_MODEL_95bbde5c062d49d2bade0e59f6109517",
              "IPY_MODEL_d14e86f2dc1d4583a1c00249e02f035b"
            ],
            "layout": "IPY_MODEL_06f078e9f92249c292bc79f6e736f332"
          }
        },
        "940aff702f784507b67100bc87a3a158": {
          "model_module": "@jupyter-widgets/controls",
          "model_name": "HTMLModel",
          "model_module_version": "1.5.0",
          "state": {
            "_dom_classes": [],
            "_model_module": "@jupyter-widgets/controls",
            "_model_module_version": "1.5.0",
            "_model_name": "HTMLModel",
            "_view_count": null,
            "_view_module": "@jupyter-widgets/controls",
            "_view_module_version": "1.5.0",
            "_view_name": "HTMLView",
            "description": "",
            "description_tooltip": null,
            "layout": "IPY_MODEL_e98f6a46851845b29e5f5b8d523464f3",
            "placeholder": "​",
            "style": "IPY_MODEL_423bc1cd65e04ac9ac2baa22ddf30469",
            "value": "Downloading (…)okenizer_config.json: 100%"
          }
        },
        "95bbde5c062d49d2bade0e59f6109517": {
          "model_module": "@jupyter-widgets/controls",
          "model_name": "FloatProgressModel",
          "model_module_version": "1.5.0",
          "state": {
            "_dom_classes": [],
            "_model_module": "@jupyter-widgets/controls",
            "_model_module_version": "1.5.0",
            "_model_name": "FloatProgressModel",
            "_view_count": null,
            "_view_module": "@jupyter-widgets/controls",
            "_view_module_version": "1.5.0",
            "_view_name": "ProgressView",
            "bar_style": "success",
            "description": "",
            "description_tooltip": null,
            "layout": "IPY_MODEL_d7a5ab943d8c44f6ba597846b03281e7",
            "max": 87,
            "min": 0,
            "orientation": "horizontal",
            "style": "IPY_MODEL_c104824031be4ef8b24d73ee0e4e3fc9",
            "value": 87
          }
        },
        "d14e86f2dc1d4583a1c00249e02f035b": {
          "model_module": "@jupyter-widgets/controls",
          "model_name": "HTMLModel",
          "model_module_version": "1.5.0",
          "state": {
            "_dom_classes": [],
            "_model_module": "@jupyter-widgets/controls",
            "_model_module_version": "1.5.0",
            "_model_name": "HTMLModel",
            "_view_count": null,
            "_view_module": "@jupyter-widgets/controls",
            "_view_module_version": "1.5.0",
            "_view_name": "HTMLView",
            "description": "",
            "description_tooltip": null,
            "layout": "IPY_MODEL_9aa1f65eed9b426aac811ee82dec41a5",
            "placeholder": "​",
            "style": "IPY_MODEL_2fed4458dafe4ab39c3667da661988ea",
            "value": " 87.0/87.0 [00:00&lt;00:00, 3.19kB/s]"
          }
        },
        "06f078e9f92249c292bc79f6e736f332": {
          "model_module": "@jupyter-widgets/base",
          "model_name": "LayoutModel",
          "model_module_version": "1.2.0",
          "state": {
            "_model_module": "@jupyter-widgets/base",
            "_model_module_version": "1.2.0",
            "_model_name": "LayoutModel",
            "_view_count": null,
            "_view_module": "@jupyter-widgets/base",
            "_view_module_version": "1.2.0",
            "_view_name": "LayoutView",
            "align_content": null,
            "align_items": null,
            "align_self": null,
            "border": null,
            "bottom": null,
            "display": null,
            "flex": null,
            "flex_flow": null,
            "grid_area": null,
            "grid_auto_columns": null,
            "grid_auto_flow": null,
            "grid_auto_rows": null,
            "grid_column": null,
            "grid_gap": null,
            "grid_row": null,
            "grid_template_areas": null,
            "grid_template_columns": null,
            "grid_template_rows": null,
            "height": null,
            "justify_content": null,
            "justify_items": null,
            "left": null,
            "margin": null,
            "max_height": null,
            "max_width": null,
            "min_height": null,
            "min_width": null,
            "object_fit": null,
            "object_position": null,
            "order": null,
            "overflow": null,
            "overflow_x": null,
            "overflow_y": null,
            "padding": null,
            "right": null,
            "top": null,
            "visibility": null,
            "width": null
          }
        },
        "e98f6a46851845b29e5f5b8d523464f3": {
          "model_module": "@jupyter-widgets/base",
          "model_name": "LayoutModel",
          "model_module_version": "1.2.0",
          "state": {
            "_model_module": "@jupyter-widgets/base",
            "_model_module_version": "1.2.0",
            "_model_name": "LayoutModel",
            "_view_count": null,
            "_view_module": "@jupyter-widgets/base",
            "_view_module_version": "1.2.0",
            "_view_name": "LayoutView",
            "align_content": null,
            "align_items": null,
            "align_self": null,
            "border": null,
            "bottom": null,
            "display": null,
            "flex": null,
            "flex_flow": null,
            "grid_area": null,
            "grid_auto_columns": null,
            "grid_auto_flow": null,
            "grid_auto_rows": null,
            "grid_column": null,
            "grid_gap": null,
            "grid_row": null,
            "grid_template_areas": null,
            "grid_template_columns": null,
            "grid_template_rows": null,
            "height": null,
            "justify_content": null,
            "justify_items": null,
            "left": null,
            "margin": null,
            "max_height": null,
            "max_width": null,
            "min_height": null,
            "min_width": null,
            "object_fit": null,
            "object_position": null,
            "order": null,
            "overflow": null,
            "overflow_x": null,
            "overflow_y": null,
            "padding": null,
            "right": null,
            "top": null,
            "visibility": null,
            "width": null
          }
        },
        "423bc1cd65e04ac9ac2baa22ddf30469": {
          "model_module": "@jupyter-widgets/controls",
          "model_name": "DescriptionStyleModel",
          "model_module_version": "1.5.0",
          "state": {
            "_model_module": "@jupyter-widgets/controls",
            "_model_module_version": "1.5.0",
            "_model_name": "DescriptionStyleModel",
            "_view_count": null,
            "_view_module": "@jupyter-widgets/base",
            "_view_module_version": "1.2.0",
            "_view_name": "StyleView",
            "description_width": ""
          }
        },
        "d7a5ab943d8c44f6ba597846b03281e7": {
          "model_module": "@jupyter-widgets/base",
          "model_name": "LayoutModel",
          "model_module_version": "1.2.0",
          "state": {
            "_model_module": "@jupyter-widgets/base",
            "_model_module_version": "1.2.0",
            "_model_name": "LayoutModel",
            "_view_count": null,
            "_view_module": "@jupyter-widgets/base",
            "_view_module_version": "1.2.0",
            "_view_name": "LayoutView",
            "align_content": null,
            "align_items": null,
            "align_self": null,
            "border": null,
            "bottom": null,
            "display": null,
            "flex": null,
            "flex_flow": null,
            "grid_area": null,
            "grid_auto_columns": null,
            "grid_auto_flow": null,
            "grid_auto_rows": null,
            "grid_column": null,
            "grid_gap": null,
            "grid_row": null,
            "grid_template_areas": null,
            "grid_template_columns": null,
            "grid_template_rows": null,
            "height": null,
            "justify_content": null,
            "justify_items": null,
            "left": null,
            "margin": null,
            "max_height": null,
            "max_width": null,
            "min_height": null,
            "min_width": null,
            "object_fit": null,
            "object_position": null,
            "order": null,
            "overflow": null,
            "overflow_x": null,
            "overflow_y": null,
            "padding": null,
            "right": null,
            "top": null,
            "visibility": null,
            "width": null
          }
        },
        "c104824031be4ef8b24d73ee0e4e3fc9": {
          "model_module": "@jupyter-widgets/controls",
          "model_name": "ProgressStyleModel",
          "model_module_version": "1.5.0",
          "state": {
            "_model_module": "@jupyter-widgets/controls",
            "_model_module_version": "1.5.0",
            "_model_name": "ProgressStyleModel",
            "_view_count": null,
            "_view_module": "@jupyter-widgets/base",
            "_view_module_version": "1.2.0",
            "_view_name": "StyleView",
            "bar_color": null,
            "description_width": ""
          }
        },
        "9aa1f65eed9b426aac811ee82dec41a5": {
          "model_module": "@jupyter-widgets/base",
          "model_name": "LayoutModel",
          "model_module_version": "1.2.0",
          "state": {
            "_model_module": "@jupyter-widgets/base",
            "_model_module_version": "1.2.0",
            "_model_name": "LayoutModel",
            "_view_count": null,
            "_view_module": "@jupyter-widgets/base",
            "_view_module_version": "1.2.0",
            "_view_name": "LayoutView",
            "align_content": null,
            "align_items": null,
            "align_self": null,
            "border": null,
            "bottom": null,
            "display": null,
            "flex": null,
            "flex_flow": null,
            "grid_area": null,
            "grid_auto_columns": null,
            "grid_auto_flow": null,
            "grid_auto_rows": null,
            "grid_column": null,
            "grid_gap": null,
            "grid_row": null,
            "grid_template_areas": null,
            "grid_template_columns": null,
            "grid_template_rows": null,
            "height": null,
            "justify_content": null,
            "justify_items": null,
            "left": null,
            "margin": null,
            "max_height": null,
            "max_width": null,
            "min_height": null,
            "min_width": null,
            "object_fit": null,
            "object_position": null,
            "order": null,
            "overflow": null,
            "overflow_x": null,
            "overflow_y": null,
            "padding": null,
            "right": null,
            "top": null,
            "visibility": null,
            "width": null
          }
        },
        "2fed4458dafe4ab39c3667da661988ea": {
          "model_module": "@jupyter-widgets/controls",
          "model_name": "DescriptionStyleModel",
          "model_module_version": "1.5.0",
          "state": {
            "_model_module": "@jupyter-widgets/controls",
            "_model_module_version": "1.5.0",
            "_model_name": "DescriptionStyleModel",
            "_view_count": null,
            "_view_module": "@jupyter-widgets/base",
            "_view_module_version": "1.2.0",
            "_view_name": "StyleView",
            "description_width": ""
          }
        }
      }
    }
  },
  "cells": [
    {
      "cell_type": "markdown",
      "metadata": {
        "id": "view-in-github",
        "colab_type": "text"
      },
      "source": [
        "<a href=\"https://colab.research.google.com/github/mashrabburanov/Learning-AI/blob/main/LearnAI.ipynb\" target=\"_parent\"><img src=\"https://colab.research.google.com/assets/colab-badge.svg\" alt=\"Open In Colab\"/></a>"
      ]
    },
    {
      "cell_type": "markdown",
      "source": [
        "# Изучаем ИИ\n",
        "## Введение\n",
        "Этот файл содержит информацию которую я буду изучать по теме искуссвенного интелекта."
      ],
      "metadata": {
        "id": "nrdhbDJqrQv4"
      }
    },
    {
      "cell_type": "markdown",
      "source": [
        "## Списоки сайтов сообществ и сайтов с обучающим материалами по теме ИИ\n",
        "\n",
        "Сайты сообществ:\n",
        "- https://huggingface.co/ - сообщество NLP (Natural Language Processing)\n",
        "- https://www.kaggle.com/ - сообщество разработчиков ИИ\n",
        "\n",
        "Сайты с обучающими материалами:\n",
        "- https://www.w3schools.com/ai/  "
      ],
      "metadata": {
        "id": "y2Ic0yYOt7Mx"
      }
    },
    {
      "cell_type": "markdown",
      "source": [
        "##**Artificial Intelligence** (AI) и **Machine Learning** (ML)\n"
      ],
      "metadata": {
        "id": "gqtcDlTM742E"
      }
    },
    {
      "cell_type": "markdown",
      "source": [
        "###**Artificial Intelligence** (AI)\n",
        "\n",
        "> **Artificial Intelligence** (Исскуственный Интелект) - наука изучающая, разрабатывающая и применяющая практики, алгоритмы для наделения машины (вычислительной) интелектуальными способностями (напрмер: генерация изображений, составление/обработка текстов и т.д.).\n",
        "\n",
        "> ИИ делится на narrow (слабый) и strong (сильный).\n",
        "- narrow - слабый ИИ ограничивается решеением какой-либо специфической задачи. Применяется: search engine, text to speech ect;\n",
        "- strong - сильный ИИ создается чтобы копировать человеческое сознание.\n",
        "\n",
        "> ИИ использует некторорые поля Data Science такие как: Machine Learning, Deep \n",
        "Learning, Big Data и Data Mining.\n"
      ],
      "metadata": {
        "id": "LrDLb-7vvfVh"
      }
    },
    {
      "cell_type": "markdown",
      "source": [
        "### **Machine Learning**\n",
        "\n",
        "> **Machine Learning** (Машинное Обучение) - ИИ обычно отсылает нас к Машинному Обучению. В отличии от традиционного программирования опирающегося на использовние алгоритмов над данными для получения результата, МО использует другую тактику - алгоритмы обучается получая данные и правила их интерпретации, а также, опционально, результаты предыдущей работы алгоритма, для настройки необходимого поведения.\n",
        "\n",
        "> Есть след. виды машинного обучения:\n",
        "- supervised (с учителем) - обучение проихсодит на размеченных данных;\n",
        "- unsupervised (без учителя) - используется для выявления закономерностей в данных их кластеризации, группирования и т.д.;\n",
        "- reinforcement - обучение похоже на обучение без учителя, здесь обучение происходит при помощи реакции пользователя: хороший результат, плохой результат;\n",
        "- self-supervised - похоже на обчение без учителя.\n",
        "\n",
        "> Обученный алгоритм называется моделью.\n",
        "\n",
        "> Данные на котором алгоритм обучается называется Data Set.\n",
        "\n"
      ],
      "metadata": {
        "id": "HI2Snhr58AxD"
      }
    },
    {
      "cell_type": "markdown",
      "source": [
        "###**Neural Networks (NN)**\n",
        "\n",
        "\n",
        "> Наиболее часто используемая технология Машинного Обучения применяемая на данный момент явлеятся технология Neural Networks (Нейронные Сети). \n",
        "\n",
        "> Нейронные ссети состоят из нейроннов, которые хранят како-либо вещественное число от 0 до 1. Нейроны образовывают слои в нейронной сети. В процессе обучения числовые веса нейроннов меняются для решения конкретной задачи\n",
        "\n",
        "> Виды нейронных сетей:\n",
        "- Глубокие нейронные сети (Deep NN); \n",
        "- Сверточные нейронные сети (Convolutional NN);\n",
        "- Рекурентные нейронные сети (Recurent NN).\n",
        "\n"
      ],
      "metadata": {
        "id": "em67vinF-KLU"
      }
    },
    {
      "cell_type": "markdown",
      "source": [
        "### **Deep Learning**\n",
        "\n",
        "\n",
        ">  Deep Learning (Глубокое обчуение) - подраздел машинного обучения. Специализируестя на применение много слойных нейронных сетей для обработки информации и получения высокоуровневого результата. \n",
        "\n",
        "> Например: для обработки изобрадения самые низкие слои модели находят закономерности в пикселях, следующий уровень на основе работы нижнего слоя делает более абстрактный вывод и передает дальше, в конце мы получаем ответ: котик или не котик.\n",
        "\n",
        "> У глубокого обучения есть две фазы:\n",
        "- Обучение (Training);\n",
        "- Вывод (Inference)\n",
        "\n"
      ],
      "metadata": {
        "id": "AxO8kP7h8BqM"
      }
    },
    {
      "cell_type": "markdown",
      "source": [
        "### **Big Data**\n",
        "\n",
        "\n",
        "> Big Data (Большие Данные) - такие данные, что человек не может справиться с их обработкой без помощи компьютера.\n",
        "\n"
      ],
      "metadata": {
        "id": "eFZalGKM8Kp0"
      }
    },
    {
      "cell_type": "markdown",
      "source": [
        "### **Data Mining**\n",
        "\n",
        "> Получив данные мы должны их обработать это и есть Data Mining.\n",
        "\n"
      ],
      "metadata": {
        "id": "yZr6KmT58MP8"
      }
    },
    {
      "cell_type": "markdown",
      "source": [
        "## Используемые языки\n",
        "\n",
        "> Для Машинного Обучения используются следующие языки:\n",
        "- LISP\n",
        "- R\n",
        "- [Python](https://colab.research.google.com/drive/1BVDhAidD1OGLXYRJOKxVewEAkaB1hbwt?usp=share_link)\n",
        "- С++\n",
        "- Java\n",
        "- JavaScript\n",
        "- SQL\n",
        "\n",
        "> Я буду испольовать язык Python - язык больше всего применяющийся в машинном обучении. Для этого языка существует множество библиотек для машинного обучения, напрмиер: \n",
        "- NumPy (Library for working with Arrays)\n",
        "- SciPy (Library for Statistical Science)\n",
        "- Matplotlib (Graph Plotting Library)\n",
        "- NLTK (Natural Language Toolkit)\n",
        "- TensorFlow (Machine Learning)\n",
        "- PyTorch\n",
        "- ScikitLearn"
      ],
      "metadata": {
        "id": "q973SD4fLdz_"
      }
    },
    {
      "cell_type": "markdown",
      "source": [
        "## Математика\n",
        "\n",
        "> В машинном обучении применяются следующие области математики:\n",
        "- Линейная алгебра ([Linear Algebra](https://colab.research.google.com/drive/1-ntrqWwCSm_8D_TCrYdS1JlLllsNqcIw?usp=share_link))\n",
        "- Статистика ([Statistics](https://colab.research.google.com/drive/1_dpAoEu96jAwbQMDf8IGFg-fgDprKJYA?usp=share_link))\n",
        "- Теория Вероятности ([Probability](https://colab.research.google.com/drive/1MudzO5d9-98VDa9p33w-cRAAaXxiMMip?usp=share_link))\n",
        "\n"
      ],
      "metadata": {
        "id": "xJzsZ4oqMA0u"
      }
    },
    {
      "cell_type": "markdown",
      "source": [
        "# Примеры\n"
      ],
      "metadata": {
        "id": "j2HznuQRuZvj"
      }
    },
    {
      "cell_type": "markdown",
      "source": [
        "## Простой персептрон и задача классификации"
      ],
      "metadata": {
        "id": "PZbTx7FJkECZ"
      }
    },
    {
      "cell_type": "code",
      "source": [
        "#@title Simple Perceptron\n",
        "#learning matplotlib plots and nupmy (arrays)\n",
        "\n",
        "import random \n",
        "import numpy as np\n",
        "import matplotlib.pyplot as plt\n",
        "\n",
        "\n",
        "\n",
        "class Point:\n",
        "  def __init__(self, \n",
        "               x = 0, \n",
        "               y = 0, \n",
        "               desired = False):\n",
        "    \n",
        "    self.x = x\n",
        "    self.y = y\n",
        "    self.desired = desired\n",
        "\n",
        "  def getX(self):\n",
        "    return self.x\n",
        "\n",
        "  def getY(self):\n",
        "    return self.y\n",
        "\n",
        "  def getXY(self):\n",
        "    return self.getX(), self.getY()\n",
        "\n",
        "  def isDesired(self):\n",
        "    return self.desired\n",
        "\n",
        "  def setDesired(self, desired):\n",
        "    self.desired = desired\n",
        "\n",
        "class Perceptron:\n",
        "  def __init__(self, \n",
        "               numberOfInputs, \n",
        "               learningRate = 0.00001):\n",
        "    \n",
        "    self.numberOfInputs = numberOfInputs\n",
        "    self.learningRate = learningRate\n",
        "\n",
        "    # self.weights = np.empty((numberOfInputs,), dtype = np.float_)\n",
        "    # for weight in self.weights:\n",
        "    #   weight\n",
        "\n",
        "    # for i in range(numberOfInputs):\n",
        "    #   self.weights[i] = random.random() * 2 - 1\n",
        "    #   print(self.weights[i])\n",
        "\n",
        "def f(x):\n",
        "  return x * 1.2 + 50\n",
        "\n",
        "\n",
        "\n",
        "numberOfPoints = 500\n",
        "perceptron = Perceptron(2)\n",
        "\n",
        "fig, ax = plt.subplots()\n",
        "\n",
        "minX, maxX = plt.xlim(0, 400)\n",
        "minY, maxY = plt.ylim(0, 400)\n",
        "\n",
        "points = np.empty(numberOfPoints, dtype = np.object_)\n",
        "\n",
        "for i in range(numberOfPoints):\n",
        "  x = random.random() * maxX\n",
        "  y = random.random() * maxY\n",
        "  if (y > f(x)):\n",
        "    points[i] = Point(x, y, True)\n",
        "  else:\n",
        "    points[i] = Point(x, y, False)\n",
        "\n",
        "for point in points:\n",
        "  if point.isDesired():\n",
        "    ax.plot(point.getX(), point.getY(), \"o\", color = \"blue\")\n",
        "  else:\n",
        "    ax.plot(point.getX(), point.getY(), \"o\", color = \"black\")\n",
        "\n",
        "ax.plot((minX, maxX), (f(minX), f(maxX)), color = \"red\")\n",
        "\n"
      ],
      "metadata": {
        "colab": {
          "base_uri": "https://localhost:8080/",
          "height": 286
        },
        "id": "g7e8B3JL0lLv",
        "outputId": "3e0310a7-183e-417d-ee1a-44fa1f6ddeca"
      },
      "execution_count": 1,
      "outputs": [
        {
          "output_type": "execute_result",
          "data": {
            "text/plain": [
              "[<matplotlib.lines.Line2D at 0x7f61ac6c39d0>]"
            ]
          },
          "metadata": {},
          "execution_count": 1
        },
        {
          "output_type": "display_data",
          "data": {
            "text/plain": [
              "<Figure size 432x288 with 1 Axes>"
            ],
            "image/png": "[encoded data removed]"
          },
          "metadata": {
            "needs_background": "light"
          }
        }
      ]
    },
    {
      "cell_type": "markdown",
      "source": [
        "## Суммаризация с использованием обученой модели\n",
        "\n",
        "Используемая модель - Pegasus 2019 года\n",
        "\n",
        "- https://huggingface.co/transformers/v3.2.0/model_doc/pegasus.html - документация "
      ],
      "metadata": {
        "id": "cKs2nZnRkTfN"
      }
    },
    {
      "cell_type": "markdown",
      "source": [
        "### Установка зависимостей и загрузка модели Pegasus\n"
      ],
      "metadata": {
        "id": "YQPvsCpVl4aX"
      }
    },
    {
      "cell_type": "code",
      "source": [
        "#@title Installing transformers\n",
        "!pip install transformers\n",
        "\n",
        "from transformers import PegasusForConditionalGeneration, PegasusTokenizer"
      ],
      "metadata": {
        "colab": {
          "base_uri": "https://localhost:8080/"
        },
        "id": "y6JU0W0vjmnY",
        "outputId": "097f8905-37fc-4878-fc93-cb972daf000b"
      },
      "execution_count": 2,
      "outputs": [
        {
          "output_type": "stream",
          "name": "stdout",
          "text": [
            "Looking in indexes: https://pypi.org/simple, https://us-python.pkg.dev/colab-wheels/public/simple/\n",
            "Requirement already satisfied: transformers in /usr/local/lib/python3.8/dist-packages (4.26.0)\n",
            "Requirement already satisfied: numpy>=1.17 in /usr/local/lib/python3.8/dist-packages (from transformers) (1.21.6)\n",
            "Requirement already satisfied: requests in /usr/local/lib/python3.8/dist-packages (from transformers) (2.25.1)\n",
            "Requirement already satisfied: huggingface-hub<1.0,>=0.11.0 in /usr/local/lib/python3.8/dist-packages (from transformers) (0.12.0)\n",
            "Requirement already satisfied: tokenizers!=0.11.3,<0.14,>=0.11.1 in /usr/local/lib/python3.8/dist-packages (from transformers) (0.13.2)\n",
            "Requirement already satisfied: tqdm>=4.27 in /usr/local/lib/python3.8/dist-packages (from transformers) (4.64.1)\n",
            "Requirement already satisfied: pyyaml>=5.1 in /usr/local/lib/python3.8/dist-packages (from transformers) (6.0)\n",
            "Requirement already satisfied: packaging>=20.0 in /usr/local/lib/python3.8/dist-packages (from transformers) (23.0)\n",
            "Requirement already satisfied: filelock in /usr/local/lib/python3.8/dist-packages (from transformers) (3.9.0)\n",
            "Requirement already satisfied: regex!=2019.12.17 in /usr/local/lib/python3.8/dist-packages (from transformers) (2022.6.2)\n",
            "Requirement already satisfied: typing-extensions>=3.7.4.3 in /usr/local/lib/python3.8/dist-packages (from huggingface-hub<1.0,>=0.11.0->transformers) (4.4.0)\n",
            "Requirement already satisfied: certifi>=2017.4.17 in /usr/local/lib/python3.8/dist-packages (from requests->transformers) (2022.12.7)\n",
            "Requirement already satisfied: idna<3,>=2.5 in /usr/local/lib/python3.8/dist-packages (from requests->transformers) (2.10)\n",
            "Requirement already satisfied: chardet<5,>=3.0.2 in /usr/local/lib/python3.8/dist-packages (from requests->transformers) (4.0.0)\n",
            "Requirement already satisfied: urllib3<1.27,>=1.21.1 in /usr/local/lib/python3.8/dist-packages (from requests->transformers) (1.24.3)\n"
          ]
        }
      ]
    },
    {
      "cell_type": "code",
      "source": [
        "#@title Installing tokenizer\n",
        "!pip install sentencepiece\n",
        "\n",
        "tokenizer = PegasusTokenizer.from_pretrained(\"google/pegasus-xsum\")"
      ],
      "metadata": {
        "colab": {
          "base_uri": "https://localhost:8080/",
          "height": 148,
          "referenced_widgets": [
            "4a79447d2df548e19ae4397df48327d4",
            "4b7b2aac66eb4a1b8872ccdcb49413c0",
            "e18f5504c11d4624870abc69fd53cde4",
            "128e3304f7bc4c409b967c8d8ac97a52",
            "bed60994510347638cd89e2ccc57f620",
            "d03635ee005944c58b85794f4e018f29",
            "084dc1bd8214455bbb88a33d4edec02f",
            "a8d03cc3340a47588b7e48629e415687",
            "ccc0b6a335e34948b7c314dc337e8ace",
            "e51d1788e1294268ab66cfdfba44bf85",
            "601e8c14f92649a2b305080fcaa0eeda",
            "e267176137964499a23c0f756806d761",
            "3aedc1a223e74c0ea7e728b2457a17df",
            "ce3cd164cc9946378a2696ce3150816f",
            "fe52dbcfdf3041d6aa1350e84ff14cef",
            "4ae4ed42653442fa8675e6bfe9497ff7",
            "c11a2a00e876446ea180f18a9a0607fd",
            "10cf3a22090b43d9b9d619928f8646ab",
            "8c628c898da44a7d91ff3ce8a807583a",
            "48a0c705f4e14d1c88332d84a9ab65a4",
            "c77dd9d804104a90bf8bce18f6501427",
            "74e8cd55ba77487d873e1921f4d334ae",
            "36d68f5e07e74cc5963fc3152e681303",
            "940aff702f784507b67100bc87a3a158",
            "95bbde5c062d49d2bade0e59f6109517",
            "d14e86f2dc1d4583a1c00249e02f035b",
            "06f078e9f92249c292bc79f6e736f332",
            "e98f6a46851845b29e5f5b8d523464f3",
            "423bc1cd65e04ac9ac2baa22ddf30469",
            "d7a5ab943d8c44f6ba597846b03281e7",
            "c104824031be4ef8b24d73ee0e4e3fc9",
            "9aa1f65eed9b426aac811ee82dec41a5",
            "2fed4458dafe4ab39c3667da661988ea"
          ]
        },
        "id": "E0op1ETzkkHB",
        "outputId": "66f67151-dca1-414c-d261-ce79ad041bac"
      },
      "execution_count": 4,
      "outputs": [
        {
          "output_type": "stream",
          "name": "stdout",
          "text": [
            "Looking in indexes: https://pypi.org/simple, https://us-python.pkg.dev/colab-wheels/public/simple/\n",
            "Requirement already satisfied: sentencepiece in /usr/local/lib/python3.8/dist-packages (0.1.97)\n"
          ]
        },
        {
          "output_type": "display_data",
          "data": {
            "text/plain": [
              "Downloading (…)ve/main/spiece.model:   0%|          | 0.00/1.91M [00:00<?, ?B/s]"
            ],
            "application/vnd.jupyter.widget-view+json": {
              "version_major": 2,
              "version_minor": 0,
              "model_id": "4a79447d2df548e19ae4397df48327d4"
            }
          },
          "metadata": {}
        },
        {
          "output_type": "display_data",
          "data": {
            "text/plain": [
              "Downloading (…)cial_tokens_map.json:   0%|          | 0.00/65.0 [00:00<?, ?B/s]"
            ],
            "application/vnd.jupyter.widget-view+json": {
              "version_major": 2,
              "version_minor": 0,
              "model_id": "e267176137964499a23c0f756806d761"
            }
          },
          "metadata": {}
        },
        {
          "output_type": "display_data",
          "data": {
            "text/plain": [
              "Downloading (…)okenizer_config.json:   0%|          | 0.00/87.0 [00:00<?, ?B/s]"
            ],
            "application/vnd.jupyter.widget-view+json": {
              "version_major": 2,
              "version_minor": 0,
              "model_id": "36d68f5e07e74cc5963fc3152e681303"
            }
          },
          "metadata": {}
        }
      ]
    },
    {
      "cell_type": "code",
      "source": [
        "#@title Installing pegasus model\n",
        "\n",
        "model = PegasusForConditionalGeneration.from_pretrained(\"google/pegasus-xsum\")"
      ],
      "metadata": {
        "id": "V4oD9bWzlVyR"
      },
      "execution_count": 5,
      "outputs": []
    },
    {
      "cell_type": "code",
      "source": [
        "import torch"
      ],
      "metadata": {
        "id": "4Tu5tdehqM0m"
      },
      "execution_count": 6,
      "outputs": []
    },
    {
      "cell_type": "markdown",
      "source": [
        "### Релизация абстрагирующего автореферирования"
      ],
      "metadata": {
        "id": "PLb118k7pKU5"
      }
    },
    {
      "cell_type": "code",
      "source": [
        "text = \"\"\"\n",
        "Pegasus (Greek: Πήγασος, translit. Pḗgasos; Latin: Pegasus, Pegasos) is a winged divine stallion, usually depicted as pure white in color, in Greek mythology. He was sired by Poseidon, in his role as horse-god, and foaled by the Gorgon Medusa. He was the brother of Chrysaor, born at a single birthing when his mother was decapitated by Perseus. Greco-Roman poets wrote about his ascent to heaven after his birth and his obeisance to Zeus, king of the gods, who instructed him to bring lightning and thunder from Olympus.\n",
        "\n",
        "Pegasus is the creator of Hippocrene, the fountain on Mount Helicon. He was captured by the Greek hero Bellerophon, near the fountain Peirene, with the help of Athena and Poseidon. Pegasus allowed Bellerophon to ride him in order to defeat the monster Chimera, which led to many more exploits. Bellerophon later fell from Pegasus's back while trying to reach Mount Olympus. Both Pegasus and Bellerophon were said to have died at the hands of Zeus for trying to reach Olympus.\n",
        "\n",
        "Pegasus was eventually brought to Olympus by Zeus. There, he was stabled next to Zeus' thunderbolts. One of his duties included carrying Zeus' thunderbolts. He was eventually turned into a constellation. Pegasus is the subject of a very rich iconography, especially through the ancient Greek pottery and paintings and sculptures of the Renaissance.\"\"\""
      ],
      "metadata": {
        "id": "OaxLAWVrmP7K"
      },
      "execution_count": 11,
      "outputs": []
    },
    {
      "cell_type": "code",
      "source": [
        "tokens = tokenizer(text, truncation=True, padding=\"longest\", return_tensors=\"pt\")\n",
        "tokens"
      ],
      "metadata": {
        "colab": {
          "base_uri": "https://localhost:8080/"
        },
        "id": "38DQ93rfqkGU",
        "outputId": "223b6595-36b1-4d2c-f5d0-6333bc90436c"
      },
      "execution_count": 12,
      "outputs": [
        {
          "output_type": "execute_result",
          "data": {
            "text/plain": [
              "{'input_ids': tensor([[51881,   143, 48782,   151,   110,   105,   108,  7662, 12329,   107,\n",
              "           881,   105, 11876,  3106,   206,  5249,   151, 51881,   108, 41884,\n",
              "          1483,  3106,   158,   117,   114, 46793,  9411, 41757,   108,   832,\n",
              "         17257,   130,  3763,   695,   115,   778,   108,   115,  4779, 20947,\n",
              "           107,   285,   140, 18132,   316,   141, 75148,   108,   115,   169,\n",
              "           868,   130,  3470,   121, 29852,   108,   111, 48455,   316,   141,\n",
              "           109, 17522, 16513, 83627,   107,   285,   140,   109,  2936,   113,\n",
              "         44322,   304,   490,   108,  1723,   134,   114,   612, 43414,   173,\n",
              "           169,  1499,   140,   718, 64816,  6272,   141, 95675,   107, 62548,\n",
              "           121, 36580, 19509,  2021,   160,   169, 26629,   112,  6872,   244,\n",
              "           169,  2755,   111,   169,   110, 45978,  1659,  6319,   112, 35738,\n",
              "           108,  4138,   113,   109, 13287,   108,   170, 14813,   342,   112,\n",
              "           650, 12216,   111, 24049,   135, 29329,   107, 51881,   117,   109,\n",
              "          8819,   113, 39360,  1152, 44290,   108,   109, 13286,   124,  4636,\n",
              "         38409,  5409,   107,   285,   140,  5340,   141,   109,  4779,  6555,\n",
              "         14111,  3882, 28085,   108,   828,   109, 13286, 51525, 44290,   108,\n",
              "           122,   109,   225,   113, 39861,   111, 75148,   107, 51881,  1608,\n",
              "         14111,  3882, 28085,   112,  1978,   342,   115,   385,   112,  6714,\n",
              "           109,  9832, 94389,   108,   162,  1358,   112,   223,   154, 25196,\n",
              "           107, 14111,  3882, 28085,   678,  3175,   135, 51881,   131,   116,\n",
              "           247,   277,   847,   112,  1111,  4636, 29329,   107,  2595, 51881,\n",
              "           111, 14111,  3882, 28085,   195,   243,   112,   133,  2342,   134,\n",
              "           109,  1233,   113, 35738,   118,   847,   112,  1111, 29329,   107,\n",
              "         51881,   140,  2435,  1457,   112, 29329,   141, 35738,   107,   353,\n",
              "           108,   178,   140,  3908,   252,   352,   112, 35738,   131, 24049,\n",
              "         32110,   116,   107,   614,   113,   169,  5664,   953,  4069, 35738,\n",
              "           131, 24049, 32110,   116,   107,   285,   140,  2435,  1552,   190,\n",
              "           114, 34755,   107, 51881,   117,   109,  1220,   113,   114,   221,\n",
              "          1889, 65130,   108,   704,   224,   109,  3266,  4779, 18112,   111,\n",
              "          5205,   111, 12312,   113,   109, 13698,   107,     1]]), 'attention_mask': tensor([[1, 1, 1, 1, 1, 1, 1, 1, 1, 1, 1, 1, 1, 1, 1, 1, 1, 1, 1, 1, 1, 1, 1, 1,\n",
              "         1, 1, 1, 1, 1, 1, 1, 1, 1, 1, 1, 1, 1, 1, 1, 1, 1, 1, 1, 1, 1, 1, 1, 1,\n",
              "         1, 1, 1, 1, 1, 1, 1, 1, 1, 1, 1, 1, 1, 1, 1, 1, 1, 1, 1, 1, 1, 1, 1, 1,\n",
              "         1, 1, 1, 1, 1, 1, 1, 1, 1, 1, 1, 1, 1, 1, 1, 1, 1, 1, 1, 1, 1, 1, 1, 1,\n",
              "         1, 1, 1, 1, 1, 1, 1, 1, 1, 1, 1, 1, 1, 1, 1, 1, 1, 1, 1, 1, 1, 1, 1, 1,\n",
              "         1, 1, 1, 1, 1, 1, 1, 1, 1, 1, 1, 1, 1, 1, 1, 1, 1, 1, 1, 1, 1, 1, 1, 1,\n",
              "         1, 1, 1, 1, 1, 1, 1, 1, 1, 1, 1, 1, 1, 1, 1, 1, 1, 1, 1, 1, 1, 1, 1, 1,\n",
              "         1, 1, 1, 1, 1, 1, 1, 1, 1, 1, 1, 1, 1, 1, 1, 1, 1, 1, 1, 1, 1, 1, 1, 1,\n",
              "         1, 1, 1, 1, 1, 1, 1, 1, 1, 1, 1, 1, 1, 1, 1, 1, 1, 1, 1, 1, 1, 1, 1, 1,\n",
              "         1, 1, 1, 1, 1, 1, 1, 1, 1, 1, 1, 1, 1, 1, 1, 1, 1, 1, 1, 1, 1, 1, 1, 1,\n",
              "         1, 1, 1, 1, 1, 1, 1, 1, 1, 1, 1, 1, 1, 1, 1, 1, 1, 1, 1, 1, 1, 1, 1, 1,\n",
              "         1, 1, 1, 1, 1, 1, 1, 1, 1, 1, 1, 1, 1, 1, 1, 1, 1, 1, 1, 1, 1, 1, 1, 1,\n",
              "         1, 1, 1, 1, 1, 1, 1, 1, 1, 1]])}"
            ]
          },
          "metadata": {},
          "execution_count": 12
        }
      ]
    },
    {
      "cell_type": "code",
      "source": [
        "summary = model.generate(**tokens)\n",
        "summary[0]"
      ],
      "metadata": {
        "colab": {
          "base_uri": "https://localhost:8080/"
        },
        "id": "JlAsLEqFqn66",
        "outputId": "b19dd535-6f04-485a-d8c8-c5a4982ce0aa"
      },
      "execution_count": 13,
      "outputs": [
        {
          "output_type": "execute_result",
          "data": {
            "text/plain": [
              "tensor([    0, 51881,   117,   156,   113,   109,   205,  1808,  4779, 45565,\n",
              "          107,     1])"
            ]
          },
          "metadata": {},
          "execution_count": 13
        }
      ]
    },
    {
      "cell_type": "code",
      "source": [
        "tokenizer.decode(summary[0])"
      ],
      "metadata": {
        "colab": {
          "base_uri": "https://localhost:8080/",
          "height": 35
        },
        "id": "2dn98f-_qviP",
        "outputId": "c14ae81e-27db-47ea-fc47-2cb6fcb70849"
      },
      "execution_count": 14,
      "outputs": [
        {
          "output_type": "execute_result",
          "data": {
            "text/plain": [
              "'<pad>Pegasus is one of the most famous Greek deities.</s>'"
            ],
            "application/vnd.google.colaboratory.intrinsic+json": {
              "type": "string"
            }
          },
          "metadata": {},
          "execution_count": 14
        }
      ]
    }
  ]
}