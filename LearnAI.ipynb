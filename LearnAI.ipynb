{
  "nbformat": 4,
  "nbformat_minor": 0,
  "metadata": {
    "colab": {
      "provenance": [],
      "authorship_tag": "ABX9TyPqWH8TIfz4cppmsDygDAq9",
      "include_colab_link": true
    },
    "kernelspec": {
      "name": "python3",
      "display_name": "Python 3"
    },
    "language_info": {
      "name": "python"
    }
  },
  "cells": [
    {
      "cell_type": "markdown",
      "metadata": {
        "id": "view-in-github",
        "colab_type": "text"
      },
      "source": [
        "<a href=\"https://colab.research.google.com/github/mashrabburanov/Learning-AI/blob/main/LearnAI.ipynb\" target=\"_parent\"><img src=\"https://colab.research.google.com/assets/colab-badge.svg\" alt=\"Open In Colab\"/></a>"
      ]
    },
    {
      "cell_type": "markdown",
      "source": [
        "# Изучаем ИИ\n",
        "## Введение\n",
        "Этот файл содержит информацию которую я, Буранов Машраб, буду изучать по теме искуссвенного интелекта."
      ],
      "metadata": {
        "id": "nrdhbDJqrQv4"
      }
    },
    {
      "cell_type": "markdown",
      "source": [
        "## Списоки сайтов сообществ и сайтов с обучающим материалами по теме ИИ\n",
        "\n",
        "Сайты сообществ:\n",
        "- https://huggingface.co/ - сообщество NLP (Natural Language Processing)\n",
        "\n",
        "Сайты с обучающими материалами:\n",
        "- https://www.w3schools.com/ai/  "
      ],
      "metadata": {
        "id": "y2Ic0yYOt7Mx"
      }
    },
    {
      "cell_type": "markdown",
      "source": [
        "##**Artificial Intelligence** (AI) and **Machine Learning** (ML)\n"
      ],
      "metadata": {
        "id": "gqtcDlTM742E"
      }
    },
    {
      "cell_type": "markdown",
      "source": [
        "###**Artificial Intelligence** (AI)\n",
        "\n",
        "> **Artificial Intelligence** (Исскуственный Интелект) - наука изучающая, разрабатывающая и применяющая практики, алгоритмы для наделения машины (вычислительной) интелектуальными способностями (напрмер: генерация изображений, составление/обработка текстов и т.д.).\n",
        "\n",
        "> ИИ делится на narrow (слабый) и strong (сильный).\n",
        "- narrow - слабый ИИ ограничивается решеением какой-либо специфической задачи. Применяется: search engine, text to speech ect;\n",
        "- strong - сильный ИИ создается чтобы копировать человеческое сознание.\n",
        "\n",
        "> ИИ использует некторорые поля Data Science такие как: Machine Learning, Deep \n",
        "Learning, Big Data и Data Mining.\n"
      ],
      "metadata": {
        "id": "LrDLb-7vvfVh"
      }
    },
    {
      "cell_type": "markdown",
      "source": [
        "### **Machine Learning**\n",
        "\n",
        "> **Machine Learning** (Машинное Обучение) - ИИ обычно отсылает нас к Машинному Обучению. В отличии от традиционного программирования опирающегося на использовние алгоритмов над данными для получения результата, МО использует другую тактику - алгоритмы обучается получая данные и правила их интерпретации, а также, опционально, результаты предыдущей работы алгоритма, для настройки необходимого поведения.\n",
        "\n",
        "> Обученный алгоритм называется моделью.\n",
        "\n",
        "> Данные на котором алгоритм обучается называется Data Set.\n",
        "\n"
      ],
      "metadata": {
        "id": "HI2Snhr58AxD"
      }
    },
    {
      "cell_type": "markdown",
      "source": [
        "###**Neural Networks (NN)**\n",
        "\n",
        "\n",
        "> Наиболее часто используемая технология Машинного Обучения применяемая на данный момент явлеятся технология Neural Networks (Нейронные Сети). \n",
        "\n",
        "> Нейронные ссети состоят из нейроннов, которые хранят како-либо вещественное число от 0 до 1. Нейроны образовывают слои в нейронной сети. В процессе обучения числовые веса нейроннов меняются для решения конкретной задачи\n",
        "\n",
        "> Виды нейронных сетей:\n",
        "- Глубокие нейронные сети (Deep NN); \n",
        "- Сверточные нейронные сети (Convolutional NN);\n",
        "- Рекурентные нейронные сети (Recurent NN).\n",
        "\n"
      ],
      "metadata": {
        "id": "em67vinF-KLU"
      }
    },
    {
      "cell_type": "markdown",
      "source": [
        "### **Deep Learning**\n",
        "\n",
        "\n",
        ">  Deep Learning (Глубокое обчуение) - подраздел машинного обучения. Специализируестя на применение много слойных нейронных сетей для обработки информации и получения высокоуровневого результата. \n",
        "\n",
        "> Например: для обработки изобрадения самые низкие слои модели находят закономерности в пикселях, следующий уровень на основе работы нижнего слоя делает более абстрактный вывод и передает дальше, в конце мы получаем ответ: котик или не котик.\n",
        "\n",
        "> У глубокого обучения есть две фазы:\n",
        "- Обучение (Training);\n",
        "- Вывод (Inference)\n",
        "\n"
      ],
      "metadata": {
        "id": "AxO8kP7h8BqM"
      }
    },
    {
      "cell_type": "markdown",
      "source": [
        "### **Big Data**\n",
        "\n",
        "\n",
        "> Big Data (Большие Данные) - такие данные, что человек не может справиться с из обработкой без помощи компьютера.\n",
        "\n"
      ],
      "metadata": {
        "id": "eFZalGKM8Kp0"
      }
    },
    {
      "cell_type": "markdown",
      "source": [
        "### **Data Mining**\n",
        "\n",
        "> Получив данные мы должны их обработать это и есть Data Mining.\n",
        "\n"
      ],
      "metadata": {
        "id": "yZr6KmT58MP8"
      }
    },
    {
      "cell_type": "markdown",
      "source": [
        "## Используемые языки\n",
        "\n",
        "> Для Машинного Обучения используются следующие языки:\n",
        "- LISP\n",
        "- R\n",
        "- Python\n",
        "- С++\n",
        "- Java\n",
        "- JavaScript\n",
        "- SQL\n",
        "\n",
        "> Я буду испольовать язык Python - язык больше всего применяющийся в машинном обучении. Для этого языка существует множество библиотек для машинного обучения, напрмиер: \n",
        "- NumPy (Library for working with Arrays)\n",
        "- SciPy (Library for Statistical Science)\n",
        "- Matplotlib (Graph Plotting Library)\n",
        "- NLTK (Natural Language Toolkit)\n",
        "- TensorFlow (Machine Learning)"
      ],
      "metadata": {
        "id": "q973SD4fLdz_"
      }
    },
    {
      "cell_type": "markdown",
      "source": [
        "## Математика\n",
        "\n",
        "> В машинном обучении применяются следующие области математики:\n",
        "- Линейная алгебра ([Linear Algebra](https://colab.research.google.com/drive/1-ntrqWwCSm_8D_TCrYdS1JlLllsNqcIw?usp=share_link))\n",
        "- Статистика ([Statistics](https://colab.research.google.com/drive/1_dpAoEu96jAwbQMDf8IGFg-fgDprKJYA?usp=share_link))\n",
        "- Теория Вероятности ([Probability](https://colab.research.google.com/drive/1MudzO5d9-98VDa9p33w-cRAAaXxiMMip?usp=share_link))\n",
        "\n"
      ],
      "metadata": {
        "id": "xJzsZ4oqMA0u"
      }
    },
    {
      "cell_type": "markdown",
      "source": [
        "# Примеры\n"
      ],
      "metadata": {
        "id": "j2HznuQRuZvj"
      }
    },
    {
      "cell_type": "markdown",
      "source": [],
      "metadata": {
        "id": "YufPWyRl8NU9"
      }
    }
  ]
}