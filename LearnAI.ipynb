{
  "nbformat": 4,
  "nbformat_minor": 0,
  "metadata": {
    "colab": {
      "provenance": [],
      "authorship_tag": "ABX9TyOw0p5mFpXEq0Qi9sDYUjyW",
      "include_colab_link": true
    },
    "kernelspec": {
      "name": "python3",
      "display_name": "Python 3"
    },
    "language_info": {
      "name": "python"
    }
  },
  "cells": [
    {
      "cell_type": "markdown",
      "metadata": {
        "id": "view-in-github",
        "colab_type": "text"
      },
      "source": [
        "<a href=\"https://colab.research.google.com/github/mashrabburanov/Learning-AI/blob/main/LearnAI.ipynb\" target=\"_parent\"><img src=\"https://colab.research.google.com/assets/colab-badge.svg\" alt=\"Open In Colab\"/></a>"
      ]
    },
    {
      "cell_type": "markdown",
      "source": [
        "# Изучаем ИИ\n",
        "## Введение\n",
        "Этот файл содержит информацию которую я буду изучать по теме искуссвенного интелекта."
      ],
      "metadata": {
        "id": "nrdhbDJqrQv4"
      }
    },
    {
      "cell_type": "markdown",
      "source": [
        "## Списоки сайтов сообществ и сайтов с обучающим материалами по теме ИИ\n",
        "\n",
        "Сайты сообществ:\n",
        "- https://huggingface.co/ - сообщество NLP (Natural Language Processing)\n",
        "- https://www.kaggle.com/ - сообщество разработчиков ИИ\n",
        "\n",
        "Сайты с обучающими материалами:\n",
        "- https://www.w3schools.com/ai/  "
      ],
      "metadata": {
        "id": "y2Ic0yYOt7Mx"
      }
    },
    {
      "cell_type": "markdown",
      "source": [
        "##**Artificial Intelligence** (AI) и **Machine Learning** (ML)\n"
      ],
      "metadata": {
        "id": "gqtcDlTM742E"
      }
    },
    {
      "cell_type": "markdown",
      "source": [
        "###**Artificial Intelligence** (AI)\n",
        "\n",
        "> **Artificial Intelligence** (Исскуственный Интелект) - наука изучающая, разрабатывающая и применяющая практики, алгоритмы для наделения машины (вычислительной) интелектуальными способностями (напрмер: генерация изображений, составление/обработка текстов и т.д.).\n",
        "\n",
        "> ИИ делится на narrow (слабый) и strong (сильный).\n",
        "- narrow - слабый ИИ ограничивается решеением какой-либо специфической задачи. Применяется: search engine, text to speech ect;\n",
        "- strong - сильный ИИ создается чтобы копировать человеческое сознание.\n",
        "\n",
        "> ИИ использует некторорые поля Data Science такие как: Machine Learning, Deep \n",
        "Learning, Big Data и Data Mining.\n"
      ],
      "metadata": {
        "id": "LrDLb-7vvfVh"
      }
    },
    {
      "cell_type": "markdown",
      "source": [
        "### **Machine Learning**\n",
        "\n",
        "> **Machine Learning** (Машинное Обучение) - ИИ обычно отсылает нас к Машинному Обучению. В отличии от традиционного программирования опирающегося на использовние алгоритмов над данными для получения результата, МО использует другую тактику - алгоритмы обучается получая данные и правила их интерпретации, а также, опционально, результаты предыдущей работы алгоритма, для настройки необходимого поведения.\n",
        "\n",
        "> Есть след. виды машинного обучения:\n",
        "- supervised (с учителем) - обучение проихсодит на размеченных данных;\n",
        "- unsupervised (без учителя) - используется для выявления закономерностей в данных их кластеризации, группирования и т.д.;\n",
        "- reinforcement - обучение похоже на обучение без учителя, здесь обучение происходит при помощи реакции пользователя: хороший результат, плохой результат;\n",
        "- self-supervised - похоже на обчение без учителя.\n",
        "\n",
        "> Обученный алгоритм называется моделью.\n",
        "\n",
        "> Данные на котором алгоритм обучается называется Data Set.\n",
        "\n"
      ],
      "metadata": {
        "id": "HI2Snhr58AxD"
      }
    },
    {
      "cell_type": "markdown",
      "source": [
        "###**Neural Networks (NN)**\n",
        "\n",
        "\n",
        "> Наиболее часто используемая технология Машинного Обучения применяемая на данный момент явлеятся технология Neural Networks (Нейронные Сети). \n",
        "\n",
        "> Нейронные ссети состоят из нейроннов, которые хранят како-либо вещественное число от 0 до 1. Нейроны образовывают слои в нейронной сети. В процессе обучения числовые веса нейроннов меняются для решения конкретной задачи\n",
        "\n",
        "> Виды нейронных сетей:\n",
        "- Глубокие нейронные сети (Deep NN); \n",
        "- Сверточные нейронные сети (Convolutional NN);\n",
        "- Рекурентные нейронные сети (Recurent NN).\n",
        "\n"
      ],
      "metadata": {
        "id": "em67vinF-KLU"
      }
    },
    {
      "cell_type": "markdown",
      "source": [
        "### **Deep Learning**\n",
        "\n",
        "\n",
        ">  Deep Learning (Глубокое обчуение) - подраздел машинного обучения. Специализируестя на применение много слойных нейронных сетей для обработки информации и получения высокоуровневого результата. \n",
        "\n",
        "> Например: для обработки изобрадения самые низкие слои модели находят закономерности в пикселях, следующий уровень на основе работы нижнего слоя делает более абстрактный вывод и передает дальше, в конце мы получаем ответ: котик или не котик.\n",
        "\n",
        "> У глубокого обучения есть две фазы:\n",
        "- Обучение (Training);\n",
        "- Вывод (Inference)\n",
        "\n"
      ],
      "metadata": {
        "id": "AxO8kP7h8BqM"
      }
    },
    {
      "cell_type": "markdown",
      "source": [
        "### **Big Data**\n",
        "\n",
        "\n",
        "> Big Data (Большие Данные) - такие данные, что человек не может справиться с их обработкой без помощи компьютера.\n",
        "\n"
      ],
      "metadata": {
        "id": "eFZalGKM8Kp0"
      }
    },
    {
      "cell_type": "markdown",
      "source": [
        "### **Data Mining**\n",
        "\n",
        "> Получив данные мы должны их обработать это и есть Data Mining.\n",
        "\n"
      ],
      "metadata": {
        "id": "yZr6KmT58MP8"
      }
    },
    {
      "cell_type": "markdown",
      "source": [
        "## Используемые языки\n",
        "\n",
        "> Для Машинного Обучения используются следующие языки:\n",
        "- LISP\n",
        "- R\n",
        "- [Python](https://colab.research.google.com/drive/1BVDhAidD1OGLXYRJOKxVewEAkaB1hbwt?usp=share_link)\n",
        "- С++\n",
        "- Java\n",
        "- JavaScript\n",
        "- SQL\n",
        "\n",
        "> Я буду испольовать язык Python - язык больше всего применяющийся в машинном обучении. Для этого языка существует множество библиотек для машинного обучения, напрмиер: \n",
        "- NumPy (Library for working with Arrays)\n",
        "- SciPy (Library for Statistical Science)\n",
        "- Matplotlib (Graph Plotting Library)\n",
        "- NLTK (Natural Language Toolkit)\n",
        "- TensorFlow (Machine Learning)\n",
        "- PyTorch\n",
        "- ScikitLearn"
      ],
      "metadata": {
        "id": "q973SD4fLdz_"
      }
    },
    {
      "cell_type": "markdown",
      "source": [
        "## Математика\n",
        "\n",
        "> В машинном обучении применяются следующие области математики:\n",
        "- Линейная алгебра ([Linear Algebra](https://colab.research.google.com/drive/1-ntrqWwCSm_8D_TCrYdS1JlLllsNqcIw?usp=share_link))\n",
        "- Статистика ([Statistics](https://colab.research.google.com/drive/1_dpAoEu96jAwbQMDf8IGFg-fgDprKJYA?usp=share_link))\n",
        "- Теория Вероятности ([Probability](https://colab.research.google.com/drive/1MudzO5d9-98VDa9p33w-cRAAaXxiMMip?usp=share_link))\n",
        "\n"
      ],
      "metadata": {
        "id": "xJzsZ4oqMA0u"
      }
    },
    {
      "cell_type": "markdown",
      "source": [
        "# Примеры\n"
      ],
      "metadata": {
        "id": "j2HznuQRuZvj"
      }
    },
    {
      "cell_type": "code",
      "source": [
        "#@title Simple Perceptron\n",
        "\n",
        "import random \n",
        "import numpy as np\n",
        "import matplotlib.pyplot as plt\n",
        "\n",
        "class Point:\n",
        "  \n",
        "  def __init__(self, x = 0, y = 0):\n",
        "    self.x = x\n",
        "    self.y = y\n",
        "\n",
        "  def getX(self):\n",
        "    return self.x\n",
        "\n",
        "  def getY(self):\n",
        "    return self.y\n",
        "\n",
        "  def getXY(self):\n",
        "    return self.getX(), self.getY()\n",
        "\n",
        "class Perceptron:\n",
        "\n",
        "  def __init__(self, weight):\n",
        "    self.weight = weight\n",
        "\n",
        "def f(x):\n",
        "  return x * 1.2 + 50\n",
        "\n",
        "numberOfPoints = 500\n",
        "\n",
        "fig, ax = plt.subplots()\n",
        "\n",
        "minX, maxX = plt.xlim(0, 400)\n",
        "minY, maxY = plt.ylim(0, 400)\n",
        "\n",
        "points = np.empty((numberOfPoints,), dtype = np.object_)\n",
        "#perceptrons = np.empty((numberOfPoints,), dtype = np.object_)\n",
        "\n",
        "for i in range(numberOfPoints):\n",
        "  x = random.random() * maxX\n",
        "  y = random.random() * maxY\n",
        "  points[i] = Point(x, y)\n",
        "\n",
        "  #perceptrons[i] = Perceptron(random.random() * 2 - 1)\n",
        "\n",
        "#ax.plot((minX, maxX), (f(minX), f(maxX)), color = \"black\")\n",
        "ax.plot((minX, maxX), (minY, maxY), marker = \"o\", color = \"red\")\n",
        "\n",
        "print(points[30].getY(), points[30].getX(), f(points[30].getX()))\n",
        "\n",
        "for i in points:\n",
        "  x, y = i.getXY()\n",
        "  ax.plot(x, y, \"o\", color = \"blue\")"
      ],
      "metadata": {
        "colab": {
          "base_uri": "https://localhost:8080/",
          "height": 286
        },
        "id": "g7e8B3JL0lLv",
        "outputId": "0f06d817-5cb6-4ac2-c50b-d682e864adce"
      },
      "execution_count": 41,
      "outputs": [
        {
          "output_type": "stream",
          "name": "stdout",
          "text": [
            "355.9518599483861 222.63981396270574 317.1677767552469\n"
          ]
        },
        {
          "output_type": "display_data",
          "data": {
            "text/plain": [
              "<Figure size 432x288 with 1 Axes>"
            ],
            "image/png": "[encoded data removed]"
          },
          "metadata": {
            "needs_background": "light"
          }
        }
      ]
    }
  ]
}