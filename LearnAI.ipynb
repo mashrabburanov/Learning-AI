{
  "nbformat": 4,
  "nbformat_minor": 0,
  "metadata": {
    "colab": {
      "provenance": [],
      "authorship_tag": "ABX9TyM8QiEIo5IaiAowPLfaWyUZ",
      "include_colab_link": true
    },
    "kernelspec": {
      "name": "python3",
      "display_name": "Python 3"
    },
    "language_info": {
      "name": "python"
    }
  },
  "cells": [
    {
      "cell_type": "markdown",
      "metadata": {
        "id": "view-in-github",
        "colab_type": "text"
      },
      "source": [
        "<a href=\"https://colab.research.google.com/github/mashrabburanov/Learning-AI/blob/main/LearnAI.ipynb\" target=\"_parent\"><img src=\"https://colab.research.google.com/assets/colab-badge.svg\" alt=\"Open In Colab\"/></a>"
      ]
    },
    {
      "cell_type": "markdown",
      "source": [
        "# Изучаем ИИ\n",
        "## Введение\n",
        "Этот файл содержит информацию которую я, Буранов Машраб, буду изучать по теме искуссвенного интелекта."
      ],
      "metadata": {
        "id": "nrdhbDJqrQv4"
      }
    },
    {
      "cell_type": "markdown",
      "source": [
        "## Списоки сайтов сообществ и сайтов с обучающим материалами по теме ИИ\n",
        "\n",
        "Сайты сообществ:\n",
        "- https://huggingface.co/ - сообщество NLP (Natural Language Processing)\n",
        "- https://www.kaggle.com/ - сообщество разработчиков ИИ\n",
        "\n",
        "Сайты с обучающими материалами:\n",
        "- https://www.w3schools.com/ai/  "
      ],
      "metadata": {
        "id": "y2Ic0yYOt7Mx"
      }
    },
    {
      "cell_type": "markdown",
      "source": [
        "##**Artificial Intelligence** (AI) and **Machine Learning** (ML)\n"
      ],
      "metadata": {
        "id": "gqtcDlTM742E"
      }
    },
    {
      "cell_type": "markdown",
      "source": [
        "###**Artificial Intelligence** (AI)\n",
        "\n",
        "> **Artificial Intelligence** (Исскуственный Интелект) - наука изучающая, разрабатывающая и применяющая практики, алгоритмы для наделения машины (вычислительной) интелектуальными способностями (напрмер: генерация изображений, составление/обработка текстов и т.д.).\n",
        "\n",
        "> ИИ делится на narrow (слабый) и strong (сильный).\n",
        "- narrow - слабый ИИ ограничивается решеением какой-либо специфической задачи. Применяется: search engine, text to speech ect;\n",
        "- strong - сильный ИИ создается чтобы копировать человеческое сознание.\n",
        "\n",
        "> ИИ использует некторорые поля Data Science такие как: Machine Learning, Deep \n",
        "Learning, Big Data и Data Mining.\n"
      ],
      "metadata": {
        "id": "LrDLb-7vvfVh"
      }
    },
    {
      "cell_type": "markdown",
      "source": [
        "### **Machine Learning**\n",
        "\n",
        "> **Machine Learning** (Машинное Обучение) - ИИ обычно отсылает нас к Машинному Обучению. В отличии от традиционного программирования опирающегося на использовние алгоритмов над данными для получения результата, МО использует другую тактику - алгоритмы обучается получая данные и правила их интерпретации, а также, опционально, результаты предыдущей работы алгоритма, для настройки необходимого поведения.\n",
        "\n",
        "> Есть след. виды машинного обучения:\n",
        "- supervised (с учителем) - обучение проихсодит на размеченных данных;\n",
        "- unsupervised (без учителя) - используется для выявления закономерностей в данных их кластеризации, группирования и т.д.;\n",
        "- reinforcement - обучение похоже на обучение без учителя, здесь обучение происходит при помощи реакции пользователя: хороший результат, плохой результат;\n",
        "- self-supervised - похоже на обчение без учителя.\n",
        "\n",
        "> Обученный алгоритм называется моделью.\n",
        "\n",
        "> Данные на котором алгоритм обучается называется Data Set.\n",
        "\n"
      ],
      "metadata": {
        "id": "HI2Snhr58AxD"
      }
    },
    {
      "cell_type": "markdown",
      "source": [
        "###**Neural Networks (NN)**\n",
        "\n",
        "\n",
        "> Наиболее часто используемая технология Машинного Обучения применяемая на данный момент явлеятся технология Neural Networks (Нейронные Сети). \n",
        "\n",
        "> Нейронные ссети состоят из нейроннов, которые хранят како-либо вещественное число от 0 до 1. Нейроны образовывают слои в нейронной сети. В процессе обучения числовые веса нейроннов меняются для решения конкретной задачи\n",
        "\n",
        "> Виды нейронных сетей:\n",
        "- Глубокие нейронные сети (Deep NN); \n",
        "- Сверточные нейронные сети (Convolutional NN);\n",
        "- Рекурентные нейронные сети (Recurent NN).\n",
        "\n"
      ],
      "metadata": {
        "id": "em67vinF-KLU"
      }
    },
    {
      "cell_type": "markdown",
      "source": [
        "### **Deep Learning**\n",
        "\n",
        "\n",
        ">  Deep Learning (Глубокое обчуение) - подраздел машинного обучения. Специализируестя на применение много слойных нейронных сетей для обработки информации и получения высокоуровневого результата. \n",
        "\n",
        "> Например: для обработки изобрадения самые низкие слои модели находят закономерности в пикселях, следующий уровень на основе работы нижнего слоя делает более абстрактный вывод и передает дальше, в конце мы получаем ответ: котик или не котик.\n",
        "\n",
        "> У глубокого обучения есть две фазы:\n",
        "- Обучение (Training);\n",
        "- Вывод (Inference)\n",
        "\n"
      ],
      "metadata": {
        "id": "AxO8kP7h8BqM"
      }
    },
    {
      "cell_type": "markdown",
      "source": [
        "### **Big Data**\n",
        "\n",
        "\n",
        "> Big Data (Большие Данные) - такие данные, что человек не может справиться с из обработкой без помощи компьютера.\n",
        "\n"
      ],
      "metadata": {
        "id": "eFZalGKM8Kp0"
      }
    },
    {
      "cell_type": "markdown",
      "source": [
        "### **Data Mining**\n",
        "\n",
        "> Получив данные мы должны их обработать это и есть Data Mining.\n",
        "\n"
      ],
      "metadata": {
        "id": "yZr6KmT58MP8"
      }
    },
    {
      "cell_type": "markdown",
      "source": [
        "## Используемые языки\n",
        "\n",
        "> Для Машинного Обучения используются следующие языки:\n",
        "- LISP\n",
        "- R\n",
        "- [Python](https://colab.research.google.com/drive/1BVDhAidD1OGLXYRJOKxVewEAkaB1hbwt?usp=share_link)\n",
        "- С++\n",
        "- Java\n",
        "- JavaScript\n",
        "- SQL\n",
        "\n",
        "> Я буду испольовать язык Python - язык больше всего применяющийся в машинном обучении. Для этого языка существует множество библиотек для машинного обучения, напрмиер: \n",
        "- NumPy (Library for working with Arrays)\n",
        "- SciPy (Library for Statistical Science)\n",
        "- Matplotlib (Graph Plotting Library)\n",
        "- NLTK (Natural Language Toolkit)\n",
        "- TensorFlow (Machine Learning)"
      ],
      "metadata": {
        "id": "q973SD4fLdz_"
      }
    },
    {
      "cell_type": "markdown",
      "source": [
        "## Математика\n",
        "\n",
        "> В машинном обучении применяются следующие области математики:\n",
        "- Линейная алгебра ([Linear Algebra](https://colab.research.google.com/drive/1-ntrqWwCSm_8D_TCrYdS1JlLllsNqcIw?usp=share_link))\n",
        "- Статистика ([Statistics](https://colab.research.google.com/drive/1_dpAoEu96jAwbQMDf8IGFg-fgDprKJYA?usp=share_link))\n",
        "- Теория Вероятности ([Probability](https://colab.research.google.com/drive/1MudzO5d9-98VDa9p33w-cRAAaXxiMMip?usp=share_link))\n",
        "\n"
      ],
      "metadata": {
        "id": "xJzsZ4oqMA0u"
      }
    },
    {
      "cell_type": "markdown",
      "source": [
        "# Примеры\n"
      ],
      "metadata": {
        "id": "j2HznuQRuZvj"
      }
    },
    {
      "cell_type": "code",
      "source": [
        "#@title Simple Perceptron\n",
        "\n",
        "import random \n",
        "import numpy as np\n",
        "import matplotlib as mpl\n",
        "import matplotlib.pyplot as plt\n",
        "\n",
        "class Point:\n",
        "  \n",
        "  def __init__(self, x = 0, y = 0):\n",
        "    self.x = x\n",
        "    self.y = y\n",
        "\n",
        "  def getXY(self):\n",
        "    return self.x, self.y\n",
        "\n",
        "class Perceptron:\n",
        "\n",
        "  def __init__(self, weight):\n",
        "    self.weight = weight\n",
        "  \n",
        "def f(x):\n",
        "  return x * 1.2 + 50\n",
        "\n",
        "numberOfPoints = 500\n",
        "\n",
        "points = np.empty((numberOfPoints,), dtype = np.object)\n",
        "perceptrons = np.empty((numberOfPoints,), dtype = np.object)\n",
        "\n",
        "for i in range(numberOfPoints):\n",
        "  x = random.random()\n",
        "  y = random.random()\n",
        "  points[i] = Point(x, y)\n",
        "\n",
        "  perceptrons[i] = Perceptron(random.random() * 2 - 1)\n",
        "\n",
        "fig, ax = plt.subplots()\n",
        "\n",
        "leftMaxX, rightMaxX = plt.xlim()\n",
        "leftMaxY, rightMaxY = plt.ylim()\n",
        "line = [(leftMaxX,leftMaxY),(rightMaxX,rightMaxY)]\n",
        "\n",
        "for i in points:\n",
        "  x, y = i.getXY()\n",
        "  ax.plot(x, y, \"o\", color = \"black\")\n",
        "\n",
        "ax.plot(line, color = \"black\")\n"
      ],
      "metadata": {
        "colab": {
          "base_uri": "https://localhost:8080/",
          "height": 424
        },
        "id": "g7e8B3JL0lLv",
        "outputId": "46d93724-43d6-4f42-9e70-c93ebe0267ce"
      },
      "execution_count": 48,
      "outputs": [
        {
          "output_type": "stream",
          "name": "stderr",
          "text": [
            "<ipython-input-48-c850cf7462a2>:27: DeprecationWarning: `np.object` is a deprecated alias for the builtin `object`. To silence this warning, use `object` by itself. Doing this will not modify any behavior and is safe. \n",
            "Deprecated in NumPy 1.20; for more details and guidance: https://numpy.org/devdocs/release/1.20.0-notes.html#deprecations\n",
            "  points = np.empty((numberOfPoints,), dtype = np.object)\n",
            "<ipython-input-48-c850cf7462a2>:28: DeprecationWarning: `np.object` is a deprecated alias for the builtin `object`. To silence this warning, use `object` by itself. Doing this will not modify any behavior and is safe. \n",
            "Deprecated in NumPy 1.20; for more details and guidance: https://numpy.org/devdocs/release/1.20.0-notes.html#deprecations\n",
            "  perceptrons = np.empty((numberOfPoints,), dtype = np.object)\n"
          ]
        },
        {
          "output_type": "execute_result",
          "data": {
            "text/plain": [
              "[<matplotlib.lines.Line2D at 0x7f774d86b070>,\n",
              " <matplotlib.lines.Line2D at 0x7f774d86b190>]"
            ]
          },
          "metadata": {},
          "execution_count": 48
        },
        {
          "output_type": "display_data",
          "data": {
            "text/plain": [
              "<Figure size 432x288 with 1 Axes>"
            ],
            "image/png": "[encoded data removed]"
          },
          "metadata": {
            "needs_background": "light"
          }
        }
      ]
    },
    {
      "cell_type": "code",
      "source": [],
      "metadata": {
        "id": "OMFAvYS-BL2Y"
      },
      "execution_count": null,
      "outputs": []
    },
    {
      "cell_type": "markdown",
      "source": [],
      "metadata": {
        "id": "YufPWyRl8NU9"
      }
    }
  ]
}